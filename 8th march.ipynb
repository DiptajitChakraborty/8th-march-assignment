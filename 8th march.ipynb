{
 "cells": [
  {
   "cell_type": "markdown",
   "id": "00de4ffc-1622-4f71-9d24-037db4781ced",
   "metadata": {},
   "source": [
    "Q1. What is the Probability density function?"
   ]
  },
  {
   "cell_type": "markdown",
   "id": "1607fb45-75de-460b-91b8-b063bcb68db9",
   "metadata": {},
   "source": [
    "Ans: probability density function (pdf) defins the probability of a continuous random variable for a certain value range."
   ]
  },
  {
   "cell_type": "markdown",
   "id": "bf8872dc-559b-4a56-9bb7-97ec6d8d34a8",
   "metadata": {},
   "source": [
    "Q2. What are the types of Probability distribution?"
   ]
  },
  {
   "cell_type": "markdown",
   "id": "0df377a2-5457-420f-b51f-c053584ae685",
   "metadata": {},
   "source": [
    "Ans: There are two types of Probability distribution , 1.For Continuous random variables, some distributions are - normal distribution, 2.exponential distrbution , 3.Cauchy distribution etc.\n",
    "and the other type is 2.For Discrete random variable , some distributions are bernoulli distribution,binomial distribution, poisson distribution"
   ]
  },
  {
   "cell_type": "markdown",
   "id": "7ab5c615-b701-44e5-b52b-6a1f6243f4dc",
   "metadata": {},
   "source": [
    "Q3. Write a Python function to calculate the probability density function of a normal distribution with\n",
    "given mean and standard deviation at a given point."
   ]
  },
  {
   "cell_type": "code",
   "execution_count": 18,
   "id": "75bb1c79-6dc2-4ca1-98fb-51c196399f46",
   "metadata": {},
   "outputs": [],
   "source": [
    "#lets take the mean = 0 an standard deviation  = 2 i.e.the variance will be  = 4\n",
    "#Now according to the formula the pdf of N(0,4) will be \n",
    "import math\n",
    "def normal_pdf(miu,sigma):\n",
    "    x = float(input(\"Enter the value of x : \"))\n",
    "    return \"The pdf will be : \",(1/sigma*(2*math.pi)**1/2)*math.exp((-(x-miu)/sigma)**2)"
   ]
  },
  {
   "cell_type": "code",
   "execution_count": 19,
   "id": "eedb0217-e24f-4d55-a9f0-2235bc661006",
   "metadata": {},
   "outputs": [
    {
     "name": "stdin",
     "output_type": "stream",
     "text": [
      "Enter the value of x :  4\n"
     ]
    },
    {
     "data": {
      "text/plain": [
       "('The pdf will be : ', 2.1349335556683915)"
      ]
     },
     "execution_count": 19,
     "metadata": {},
     "output_type": "execute_result"
    }
   ],
   "source": [
    "normal_pdf(0,4)"
   ]
  },
  {
   "cell_type": "markdown",
   "id": "0430c5f4-166f-4094-a579-06de89eedd60",
   "metadata": {},
   "source": [
    "Q4. What are the properties of Binomial distribution? Give two examples of events where binomial\n",
    "distribution can be applied."
   ]
  },
  {
   "cell_type": "markdown",
   "id": "4155330f-97e1-49f1-bc19-bdfecbc968c4",
   "metadata": {},
   "source": [
    "Ans: 1.Everey experiment outcome is binary\n",
    "     2.The experiemnt will be performed for n times [for bin(n,p)].\n",
    "     \n",
    "     Example 1. Tossing coin for 7times, 2.Rolling dice for 4 times"
   ]
  },
  {
   "cell_type": "markdown",
   "id": "4e08a0ff-8a66-4c38-9cf6-b5437e7246df",
   "metadata": {},
   "source": [
    "Q5. Generate a random sample of size 1000 from a binomial distribution with probability of success 0.4\n",
    "and plot a histogram of the results using matplotlib."
   ]
  },
  {
   "cell_type": "code",
   "execution_count": 24,
   "id": "9e451635-23fe-4f0a-a5a6-9e26b7a3fbff",
   "metadata": {},
   "outputs": [
    {
     "name": "stdout",
     "output_type": "stream",
     "text": [
      "[4 3 5 4 6 4 6 3 6 5 4 4 2 5 6 5 4 5 4 7 4 3 3 2 3 5 4 5 5 2 4 1 5 7 5 5 6\n",
      " 4 3 7 3 4 4 6 5 3 7 5 2 2 5 3 2 3 4 1 2 3 2 4 6 5 3 6 4 2 4 5 2 3 3 4 6 4\n",
      " 7 6 3 4 5 4 5 5 2 6 6 3 4 4 5 2 5 5 4 3 6 5 3 7 6 3 1 3 3 5 4 7 3 5 2 5 3\n",
      " 5 3 4 6 2 5 5 1 4 6 3 4 3 3 3 3 3 4 3 3 4 3 4 4 3 3 6 3 4 6 4 4 5 3 2 4 7\n",
      " 5 6 2 5 3 1 3 6 3 6 2 4 0 6 3 4 4 4 5 5 4 2 4 4 6 4 4 5 4 7 4 1 4 6 4 5 3\n",
      " 3 2 5 3 1 5 4 5 3 3 2 2 4 5 4 6 6 2 5 4 5 1 6 5 2 6 3 4 3 1 2 4 4 5 0 4 8\n",
      " 5 3 5 5 7 5 2 4 6 5 7 3 4 4 6 5 6 4 4 4 4 4 5 3 3 5 6 3 1 7 5 4 6 3 6 3 6\n",
      " 3 5 7 3 4 5 4 4 7 4 4 4 3 2 5 3 3 2 6 4 8 2 7 2 3 5 3 5 5 3 5 4 6 5 2 6 3\n",
      " 7 4 3 3 3 5 5 4 4 3 6 6 5 4 5 1 4 3 4 7 4 3 2 2 4 4 3 4 3 3 5 5 2 2 5 4 2\n",
      " 4 5 4 5 2 3 4 6 4 2 5 4 4 4 4 4 4 3 5 3 8 7 4 4 2 2 3 6 3 4 3 5 5 4 4 3 5\n",
      " 4 1 6 8 3 7 2 5 5 4 7 3 6 2 4 4 2 4 4 3 6 4 5 7 4 5 5 4 5 3 3 7 3 5 2 3 2\n",
      " 2 3 2 2 3 0 5 3 4 4 4 4 2 5 3 5 6 8 5 2 0 2 4 4 6 3 4 8 5 2 3 5 1 3 3 8 4\n",
      " 4 4 4 5 4 5 4 4 3 5 3 7 5 3 3 5 5 6 4 5 4 6 5 3 5 4 3 7 7 7 5 2 5 4 4 4 5\n",
      " 5 2 4 6 3 5 4 5 5 5 5 5 5 5 5 5 5 4 6 1 7 6 3 3 4 2 3 4 5 3 5 6 5 2 2 4 4\n",
      " 5 4 7 4 4 3 4 6 2 2 7 2 5 3 5 7 5 4 4 7 4 5 5 5 5 3 3 3 3 5 3 4 3 2 1 3 5\n",
      " 2 5 1 4 3 3 5 3 6 5 6 3 4 6 4 4 6 4 3 3 5 3 3 3 1 4 4 3 3 3 5 3 4 6 4 5 3\n",
      " 6 4 5 4 2 4 5 2 3 3 5 2 6 2 3 3 3 4 1 4 4 5 4 6 4 5 5 3 7 2 6 7 3 3 3 4 3\n",
      " 4 2 3 0 4 5 3 6 6 5 5 5 3 6 6 3 4 6 4 4 6 6 7 3 3 5 5 3 2 5 5 4 4 2 2 7 5\n",
      " 4 5 3 4 5 2 3 5 3 1 5 7 3 1 2 2 1 2 4 4 6 3 7 3 5 5 7 5 3 4 4 4 5 2 4 3 4\n",
      " 2 8 3 7 3 2 4 3 6 4 2 4 2 4 4 5 1 6 3 1 3 3 4 4 4 4 3 2 4 3 5 5 6 6 4 2 4\n",
      " 4 5 4 4 5 3 3 6 3 3 3 1 5 3 4 2 5 6 3 6 3 3 4 5 3 6 5 7 3 4 3 2 4 4 5 4 4\n",
      " 4 3 7 4 4 4 4 4 6 5 4 4 5 5 4 3 5 3 5 4 6 4 1 5 4 4 3 6 4 6 3 3 2 5 5 6 3\n",
      " 4 2 4 4 2 3 4 6 4 8 4 5 5 3 4 7 3 4 6 6 4 3 3 2 5 5 3 6 7 3 4 6 3 6 3 2 5\n",
      " 8 2 4 5 2 3 8 4 6 4 7 5 4 4 5 3 4 6 5 4 6 5 6 1 5 3 5 2 4 7 3 3 3 4 7 2 1\n",
      " 4 3 6 7 3 4 3 5 3 6 6 4 4 4 6 5 5 5 6 1 2 2 3 5 3 5 2 5 2 3 4 2 4 2 2 4 3\n",
      " 5 5 6 5 4 3 4 3 3 1 5 5 0 3 5 5 6 1 4 1 2 5 4 6 4 4 4 4 5 7 4 2 4 3 5 6 4\n",
      " 1 6 5 8 4 6 4 2 5 4 6 6 7 2 5 3 4 1 5 4 4 4 4 2 6 3 5 3 3 6 4 5 3 1 4 6 5\n",
      " 4]\n"
     ]
    }
   ],
   "source": [
    "from numpy import random\n",
    "x = random.binomial(n=10, p=0.4, size=1000)\n",
    "print(x)"
   ]
  },
  {
   "cell_type": "code",
   "execution_count": 28,
   "id": "dce859ea-a26b-4a58-89ea-91e12b4c213e",
   "metadata": {},
   "outputs": [],
   "source": [
    "import matplotlib.pyplot as plt"
   ]
  },
  {
   "cell_type": "code",
   "execution_count": 30,
   "id": "088d4ea5-66b3-4360-97a5-f0239244c8fb",
   "metadata": {},
   "outputs": [
    {
     "data": {
      "text/plain": [
       "(array([  6.,  34., 104., 214.,   0., 263., 208., 110.,  49.,  12.]),\n",
       " array([0. , 0.8, 1.6, 2.4, 3.2, 4. , 4.8, 5.6, 6.4, 7.2, 8. ]),\n",
       " <BarContainer object of 10 artists>)"
      ]
     },
     "execution_count": 30,
     "metadata": {},
     "output_type": "execute_result"
    },
    {
     "data": {
      "image/png": "[encoded data removed]",
      "text/plain": [
       "<Figure size 640x480 with 1 Axes>"
      ]
     },
     "metadata": {},
     "output_type": "display_data"
    }
   ],
   "source": [
    "plt.hist(x)"
   ]
  },
  {
   "cell_type": "markdown",
   "id": "d0a518f6-0742-4d38-bbd0-90343aa9ef02",
   "metadata": {},
   "source": [
    "Q6. Write a Python function to calculate the cumulative distribution function of a Poisson distribution\n",
    "with given mean at a given point."
   ]
  },
  {
   "cell_type": "code",
   "execution_count": 45,
   "id": "47b34ae6-2055-46b2-a53b-e8b269288ee1",
   "metadata": {},
   "outputs": [],
   "source": [
    "def poi_cdf(x):\n",
    "    sum = 0\n",
    "    l = float(input(\"Enter the value of lambda : \"))\n",
    "    for i in range(0,x+1):\n",
    "        sum+=((math.exp(-l)*l**x)/math.factorial(x))\n",
    "    print(\"The cdf of poisson distribution is : \", sum)    "
   ]
  },
  {
   "cell_type": "code",
   "execution_count": 46,
   "id": "8eec4ac8-3c06-415f-a730-a99c0366cb6f",
   "metadata": {},
   "outputs": [
    {
     "name": "stdin",
     "output_type": "stream",
     "text": [
      "Enter the value of lambda :  3\n"
     ]
    },
    {
     "name": "stdout",
     "output_type": "stream",
     "text": [
      "The cdf of poisson distribution is :  0.6049128806695468\n"
     ]
    }
   ],
   "source": [
    "poi_cdf(5)"
   ]
  },
  {
   "cell_type": "markdown",
   "id": "8098a9d7-bc20-4243-ab0b-0b4b1e4a01ce",
   "metadata": {},
   "source": [
    "Q7. How Binomial distribution different from Poisson distribution?"
   ]
  },
  {
   "cell_type": "markdown",
   "id": "1c6f19af-e328-44b1-ba9f-5ca94e9e4a30",
   "metadata": {},
   "source": [
    "Ans: Binomial distribution describes the distribution of binary data from a finite sample but Poisson distribution describes the distribution of binary data from an infinite sample "
   ]
  },
  {
   "cell_type": "markdown",
   "id": "b45ba31b-3d58-4b9b-9a2d-7513c95cf45f",
   "metadata": {},
   "source": [
    "Q8. Generate a random sample of size 1000 from a Poisson distribution with mean 5 and calculate the\n",
    "sample mean and variance."
   ]
  },
  {
   "cell_type": "code",
   "execution_count": 48,
   "id": "d2065c1b-e8af-4f1e-8d98-beef7be1d862",
   "metadata": {},
   "outputs": [],
   "source": [
    "y = random.poisson(lam = 5, size = 1000)\n"
   ]
  },
  {
   "cell_type": "code",
   "execution_count": 49,
   "id": "08f4e312-533d-4949-822a-2680f203f5b7",
   "metadata": {},
   "outputs": [],
   "source": [
    "import numpy as np"
   ]
  },
  {
   "cell_type": "code",
   "execution_count": 52,
   "id": "582c4a60-06ca-4997-8806-a7bb986bbdfb",
   "metadata": {},
   "outputs": [
    {
     "data": {
      "text/plain": [
       "4.979"
      ]
     },
     "execution_count": 52,
     "metadata": {},
     "output_type": "execute_result"
    }
   ],
   "source": [
    "sample_mean = np.mean(y)\n",
    "sample_mean"
   ]
  },
  {
   "cell_type": "code",
   "execution_count": 53,
   "id": "227ea23d-29c1-4cd3-9415-d5d3e8067369",
   "metadata": {},
   "outputs": [
    {
     "data": {
      "text/plain": [
       "5.052559"
      ]
     },
     "execution_count": 53,
     "metadata": {},
     "output_type": "execute_result"
    }
   ],
   "source": [
    "sample_variance = np.var(y)\n",
    "sample_variance"
   ]
  },
  {
   "cell_type": "markdown",
   "id": "79562ef7-5e03-43d6-8480-d88e2dbc40cc",
   "metadata": {},
   "source": [
    "Q9. How mean and variance are related in Binomial distribution and Poisson distribution?"
   ]
  },
  {
   "cell_type": "markdown",
   "id": "489ee304-8bde-49f0-b7c5-3a9e5a0ee1d8",
   "metadata": {},
   "source": [
    "Ans: In poisson distribution the mean and variance are same .\n",
    "where in binomial distribution mean is = np and variance is np(1-p). whwre n is number of observations and p is the probabilty of success."
   ]
  },
  {
   "cell_type": "markdown",
   "id": "a5867814-e695-4bf3-9e12-25654c2a9304",
   "metadata": {},
   "source": [
    "Q10. In normal distribution with respect to mean position, where does the least frequent data appear?"
   ]
  },
  {
   "cell_type": "markdown",
   "id": "937e9c31-a74a-4d20-ae11-6aa085db70d7",
   "metadata": {},
   "source": [
    "Ans: The least frequent data appears at both side's end  from mean in the distribution "
   ]
  },
  {
   "cell_type": "code",
   "execution_count": null,
   "id": "332b1333-c301-446b-8893-f4b8e9148135",
   "metadata": {},
   "outputs": [],
   "source": []
  },
  {
   "cell_type": "code",
   "execution_count": null,
   "id": "9a9f31c6-faf1-4b6f-a7fb-ce31d9cfe53a",
   "metadata": {},
   "outputs": [],
   "source": []
  },
  {
   "cell_type": "code",
   "execution_count": null,
   "id": "385a3d47-e11e-424d-9887-8fae623f10ed",
   "metadata": {},
   "outputs": [],
   "source": []
  }
 ],
 "metadata": {
  "kernelspec": {
   "display_name": "Python 3 (ipykernel)",
   "language": "python",
   "name": "python3"
  },
  "language_info": {
   "codemirror_mode": {
    "name": "ipython",
    "version": 3
   },
   "file_extension": ".py",
   "mimetype": "text/x-python",
   "name": "python",
   "nbconvert_exporter": "python",
   "pygments_lexer": "ipython3",
   "version": "3.10.8"
  }
 },
 "nbformat": 4,
 "nbformat_minor": 5
}
